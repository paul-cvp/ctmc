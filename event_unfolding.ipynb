{
 "cells": [
  {
   "metadata": {
    "ExecuteTime": {
     "end_time": "2025-05-24T07:02:42.675803Z",
     "start_time": "2025-05-24T07:02:42.637024Z"
    }
   },
   "cell_type": "code",
   "source": [
    "%load_ext autoreload\n",
    "%autoreload 2"
   ],
   "id": "10b65f323df83072",
   "outputs": [],
   "execution_count": 1
  },
  {
   "cell_type": "code",
   "id": "initial_id",
   "metadata": {
    "collapsed": true,
    "ExecuteTime": {
     "end_time": "2025-05-24T07:02:43.129552Z",
     "start_time": "2025-05-24T07:02:42.708679Z"
    }
   },
   "source": [
    "import pandas as pd\n",
    "import numpy as np\n",
    "import pm4py"
   ],
   "outputs": [],
   "execution_count": 2
  },
  {
   "metadata": {
    "ExecuteTime": {
     "end_time": "2025-05-24T07:03:11.267403Z",
     "start_time": "2025-05-24T07:03:06.039164Z"
    }
   },
   "cell_type": "code",
   "source": [
    "event_log = pm4py.read_xes('BPI_Challenge_2013_incidents.xes.gz')\n",
    "event_log = event_log.sort_values(['case:concept:name','time:timestamp'])\n",
    "number_of_traces = event_log['case:concept:name'].nunique()\n",
    "subset_el = event_log[['case:concept:name','concept:name','time:timestamp','org:resource','org:role']]\n",
    "subset_el['org:role'] = subset_el['org:role'].fillna('nan_1').apply(lambda x: x.split('_')[0])\n",
    "subset_el['org:role'] = subset_el['org:role'].replace({'C':'C1','D':'D1','E':'E1'})"
   ],
   "id": "c2d8f75fea10366c",
   "outputs": [
    {
     "name": "stderr",
     "output_type": "stream",
     "text": [
      "parsing log, completed traces :: 100%|██████████| 7554/7554 [00:03<00:00, 2246.04it/s]\n",
      "/tmp/ipykernel_11728/4067086581.py:5: SettingWithCopyWarning: \n",
      "A value is trying to be set on a copy of a slice from a DataFrame.\n",
      "Try using .loc[row_indexer,col_indexer] = value instead\n",
      "\n",
      "See the caveats in the documentation: https://pandas.pydata.org/pandas-docs/stable/user_guide/indexing.html#returning-a-view-versus-a-copy\n",
      "  subset_el['org:role'] = subset_el['org:role'].fillna('nan_1').apply(lambda x: x.split('_')[0])\n",
      "/tmp/ipykernel_11728/4067086581.py:6: SettingWithCopyWarning: \n",
      "A value is trying to be set on a copy of a slice from a DataFrame.\n",
      "Try using .loc[row_indexer,col_indexer] = value instead\n",
      "\n",
      "See the caveats in the documentation: https://pandas.pydata.org/pandas-docs/stable/user_guide/indexing.html#returning-a-view-versus-a-copy\n",
      "  subset_el['org:role'] = subset_el['org:role'].replace({'C':'C1','D':'D1','E':'E1'})\n"
     ]
    }
   ],
   "execution_count": 4
  },
  {
   "metadata": {
    "ExecuteTime": {
     "end_time": "2025-05-24T07:19:55.624826Z",
     "start_time": "2025-05-24T07:19:55.602960Z"
    }
   },
   "cell_type": "code",
   "source": [
    "import pandas as pd\n",
    "from pm4py.objects.log.util import dataframe_utils\n",
    "\n",
    "def rename_repeating_events(df, epsilon=3, final_states=None):\n",
    "    df = dataframe_utils.convert_timestamp_columns_in_df(df)\n",
    "    df = df.sort_values(by=[\"case:concept:name\", \"time:timestamp\"])\n",
    "\n",
    "    updated_final_states = set()\n",
    "\n",
    "    def process_case(case_df):\n",
    "        new_names = []\n",
    "        event_counts = {}\n",
    "        for name in case_df[\"concept:name\"]:\n",
    "            if name not in event_counts:\n",
    "                event_counts[name] = 1\n",
    "            else:\n",
    "                event_counts[name] += 1\n",
    "\n",
    "            count = event_counts[name]\n",
    "            if count <= epsilon:\n",
    "                new_name = name if count == 1 else f\"{name}{count}\"\n",
    "            else:\n",
    "                new_name = f\"{name}{epsilon}\"\n",
    "\n",
    "            new_names.append(new_name)\n",
    "\n",
    "        case_df[\"concept:name\"] = new_names\n",
    "\n",
    "        if final_states:\n",
    "            last_event = new_names[-1]\n",
    "            original_last_event = case_df[\"concept:name\"].iloc[-1].split(str(epsilon))[0].rstrip(\"1234567890\")\n",
    "            if original_last_event in final_states:\n",
    "                updated_final_states.add(last_event)\n",
    "\n",
    "        return case_df\n",
    "\n",
    "    df = df.groupby(\"case:concept:name\", group_keys=False).apply(process_case)\n",
    "\n",
    "    if final_states is not None:\n",
    "        return df, sorted(updated_final_states)\n",
    "    return df\n"
   ],
   "id": "fdaa2ece6b4c6b10",
   "outputs": [],
   "execution_count": 11
  },
  {
   "metadata": {
    "ExecuteTime": {
     "end_time": "2025-05-24T07:20:32.705246Z",
     "start_time": "2025-05-24T07:20:29.696309Z"
    }
   },
   "cell_type": "code",
   "source": [
    "final_states = ['Completed']\n",
    "new_df, new_final_states  = rename_repeating_events(subset_el, 3, final_states)\n",
    "new_df"
   ],
   "id": "6579515a9fecebb5",
   "outputs": [
    {
     "name": "stderr",
     "output_type": "stream",
     "text": [
      "/home/vco/.pyenv/versions/pn-updater/lib/python3.11/site-packages/pm4py/objects/log/util/dataframe_utils.py:203: SettingWithCopyWarning: \n",
      "A value is trying to be set on a copy of a slice from a DataFrame.\n",
      "Try using .loc[row_indexer,col_indexer] = value instead\n",
      "\n",
      "See the caveats in the documentation: https://pandas.pydata.org/pandas-docs/stable/user_guide/indexing.html#returning-a-view-versus-a-copy\n",
      "  df[col] = strpfromiso.fix_dataframe_column(df[col])\n",
      "/tmp/ipykernel_11728/1227030263.py:37: DeprecationWarning: DataFrameGroupBy.apply operated on the grouping columns. This behavior is deprecated, and in a future version of pandas the grouping columns will be excluded from the operation. Either pass `include_groups=False` to exclude the groupings or explicitly select the grouping columns after groupby to silence this warning.\n",
      "  df = df.groupby(\"case:concept:name\", group_keys=False).apply(process_case)\n"
     ]
    },
    {
     "data": {
      "text/plain": [
       "      case:concept:name concept:name            time:timestamp org:resource  \\\n",
       "0           1-364285768     Accepted 2010-03-31 16:59:42+00:00     Frederic   \n",
       "1           1-364285768    Accepted2 2010-03-31 17:00:56+00:00     Frederic   \n",
       "2           1-364285768       Queued 2010-03-31 17:45:48+00:00     Frederic   \n",
       "3           1-364285768    Accepted3 2010-04-06 16:44:07+00:00  Anne Claire   \n",
       "4           1-364285768      Queued2 2010-04-06 16:44:38+00:00  Anne Claire   \n",
       "...                 ...          ...                       ...          ...   \n",
       "65528       1-740866691    Completed 2012-05-05 04:07:43+00:00      Lierson   \n",
       "65529       1-740866708     Accepted 2012-05-05 06:58:40+00:00      Lierson   \n",
       "65530       1-740866708    Accepted2 2012-05-05 07:02:39+00:00      Lierson   \n",
       "65531       1-740866708    Completed 2012-05-05 07:23:03+00:00      Lierson   \n",
       "65532       1-740866821     Accepted 2012-05-05 14:54:27+00:00         Matt   \n",
       "\n",
       "      org:role  \n",
       "0           A2  \n",
       "1           A2  \n",
       "2           A2  \n",
       "3           A2  \n",
       "4           A2  \n",
       "...        ...  \n",
       "65528       V3  \n",
       "65529       V3  \n",
       "65530       V3  \n",
       "65531       V3  \n",
       "65532       V3  \n",
       "\n",
       "[65533 rows x 5 columns]"
      ],
      "text/html": [
       "<div>\n",
       "<style scoped>\n",
       "    .dataframe tbody tr th:only-of-type {\n",
       "        vertical-align: middle;\n",
       "    }\n",
       "\n",
       "    .dataframe tbody tr th {\n",
       "        vertical-align: top;\n",
       "    }\n",
       "\n",
       "    .dataframe thead th {\n",
       "        text-align: right;\n",
       "    }\n",
       "</style>\n",
       "<table border=\"1\" class=\"dataframe\">\n",
       "  <thead>\n",
       "    <tr style=\"text-align: right;\">\n",
       "      <th></th>\n",
       "      <th>case:concept:name</th>\n",
       "      <th>concept:name</th>\n",
       "      <th>time:timestamp</th>\n",
       "      <th>org:resource</th>\n",
       "      <th>org:role</th>\n",
       "    </tr>\n",
       "  </thead>\n",
       "  <tbody>\n",
       "    <tr>\n",
       "      <th>0</th>\n",
       "      <td>1-364285768</td>\n",
       "      <td>Accepted</td>\n",
       "      <td>2010-03-31 16:59:42+00:00</td>\n",
       "      <td>Frederic</td>\n",
       "      <td>A2</td>\n",
       "    </tr>\n",
       "    <tr>\n",
       "      <th>1</th>\n",
       "      <td>1-364285768</td>\n",
       "      <td>Accepted2</td>\n",
       "      <td>2010-03-31 17:00:56+00:00</td>\n",
       "      <td>Frederic</td>\n",
       "      <td>A2</td>\n",
       "    </tr>\n",
       "    <tr>\n",
       "      <th>2</th>\n",
       "      <td>1-364285768</td>\n",
       "      <td>Queued</td>\n",
       "      <td>2010-03-31 17:45:48+00:00</td>\n",
       "      <td>Frederic</td>\n",
       "      <td>A2</td>\n",
       "    </tr>\n",
       "    <tr>\n",
       "      <th>3</th>\n",
       "      <td>1-364285768</td>\n",
       "      <td>Accepted3</td>\n",
       "      <td>2010-04-06 16:44:07+00:00</td>\n",
       "      <td>Anne Claire</td>\n",
       "      <td>A2</td>\n",
       "    </tr>\n",
       "    <tr>\n",
       "      <th>4</th>\n",
       "      <td>1-364285768</td>\n",
       "      <td>Queued2</td>\n",
       "      <td>2010-04-06 16:44:38+00:00</td>\n",
       "      <td>Anne Claire</td>\n",
       "      <td>A2</td>\n",
       "    </tr>\n",
       "    <tr>\n",
       "      <th>...</th>\n",
       "      <td>...</td>\n",
       "      <td>...</td>\n",
       "      <td>...</td>\n",
       "      <td>...</td>\n",
       "      <td>...</td>\n",
       "    </tr>\n",
       "    <tr>\n",
       "      <th>65528</th>\n",
       "      <td>1-740866691</td>\n",
       "      <td>Completed</td>\n",
       "      <td>2012-05-05 04:07:43+00:00</td>\n",
       "      <td>Lierson</td>\n",
       "      <td>V3</td>\n",
       "    </tr>\n",
       "    <tr>\n",
       "      <th>65529</th>\n",
       "      <td>1-740866708</td>\n",
       "      <td>Accepted</td>\n",
       "      <td>2012-05-05 06:58:40+00:00</td>\n",
       "      <td>Lierson</td>\n",
       "      <td>V3</td>\n",
       "    </tr>\n",
       "    <tr>\n",
       "      <th>65530</th>\n",
       "      <td>1-740866708</td>\n",
       "      <td>Accepted2</td>\n",
       "      <td>2012-05-05 07:02:39+00:00</td>\n",
       "      <td>Lierson</td>\n",
       "      <td>V3</td>\n",
       "    </tr>\n",
       "    <tr>\n",
       "      <th>65531</th>\n",
       "      <td>1-740866708</td>\n",
       "      <td>Completed</td>\n",
       "      <td>2012-05-05 07:23:03+00:00</td>\n",
       "      <td>Lierson</td>\n",
       "      <td>V3</td>\n",
       "    </tr>\n",
       "    <tr>\n",
       "      <th>65532</th>\n",
       "      <td>1-740866821</td>\n",
       "      <td>Accepted</td>\n",
       "      <td>2012-05-05 14:54:27+00:00</td>\n",
       "      <td>Matt</td>\n",
       "      <td>V3</td>\n",
       "    </tr>\n",
       "  </tbody>\n",
       "</table>\n",
       "<p>65533 rows × 5 columns</p>\n",
       "</div>"
      ]
     },
     "execution_count": 12,
     "metadata": {},
     "output_type": "execute_result"
    }
   ],
   "execution_count": 12
  },
  {
   "metadata": {
    "ExecuteTime": {
     "end_time": "2025-05-24T07:20:35.532480Z",
     "start_time": "2025-05-24T07:20:35.509191Z"
    }
   },
   "cell_type": "code",
   "source": "new_final_states",
   "id": "64daf0704d6d93af",
   "outputs": [
    {
     "data": {
      "text/plain": [
       "['Completed', 'Completed2', 'Completed3']"
      ]
     },
     "execution_count": 13,
     "metadata": {},
     "output_type": "execute_result"
    }
   ],
   "execution_count": 13
  },
  {
   "metadata": {},
   "cell_type": "code",
   "outputs": [],
   "execution_count": null,
   "source": "",
   "id": "d0d0599699b4f4a8"
  }
 ],
 "metadata": {
  "kernelspec": {
   "display_name": "Python 3",
   "language": "python",
   "name": "python3"
  },
  "language_info": {
   "codemirror_mode": {
    "name": "ipython",
    "version": 2
   },
   "file_extension": ".py",
   "mimetype": "text/x-python",
   "name": "python",
   "nbconvert_exporter": "python",
   "pygments_lexer": "ipython2",
   "version": "2.7.6"
  }
 },
 "nbformat": 4,
 "nbformat_minor": 5
}
